{
 "cells": [
  {
   "cell_type": "code",
   "execution_count": 1,
   "id": "d095ee88",
   "metadata": {},
   "outputs": [],
   "source": [
    "from joblib import load\n",
    "import numpy as np"
   ]
  },
  {
   "cell_type": "code",
   "execution_count": 2,
   "id": "4434f769",
   "metadata": {},
   "outputs": [],
   "source": [
    "import contractions\n",
    "import string\n",
    "import re\n",
    "import spacy\n",
    "nlp = spacy.load('en_core_web_sm')\n",
    "\n",
    "from nltk.corpus import stopwords\n",
    "stop_words = set(stopwords.words('english'))\n",
    "stop_words.discard('not')\n",
    "\n",
    "def process(sent):\n",
    "    sent = contractions.fix(sent)\n",
    "    sent = sent.lower()\n",
    "    sent = re.sub(r'[^\\w\\s]','', sent) \n",
    "    d = nlp(sent)\n",
    "    tokens=[]\n",
    "    \n",
    "    for i in d:\n",
    "        if i.lemma_ != '-PRON-':\n",
    "            tokens.append(i.lemma_)\n",
    "            \n",
    "    tokens = [tok for tok in tokens if tok not in stop_words]\n",
    "    tokens = [tok for tok in tokens if tok not in string.punctuation]\n",
    "\n",
    "    tokens = ' '.join(tokens)\n",
    "    return tokens"
   ]
  },
  {
   "cell_type": "code",
   "execution_count": 3,
   "id": "662c46d5",
   "metadata": {},
   "outputs": [],
   "source": [
    "def predict(arr):\n",
    "    arr = process(arr)\n",
    "    vec = load('vec.joblib') \n",
    "    bagging = load('bagging.joblib')\n",
    "    \n",
    "    arr = np.array([arr])\n",
    "    vect = vec.transform(arr)\n",
    "    \n",
    "    return bagging.predict(vect)"
   ]
  },
  {
   "cell_type": "code",
   "execution_count": 4,
   "id": "d170ee5a",
   "metadata": {},
   "outputs": [
    {
     "name": "stdout",
     "output_type": "stream",
     "text": [
      "Enter the password :nice place food was good\n",
      "[1]\n"
     ]
    }
   ],
   "source": [
    "s = input('Enter the password :')\n",
    "prediction = predict(s)\n",
    "\n",
    "print(prediction)"
   ]
  },
  {
   "cell_type": "code",
   "execution_count": 5,
   "id": "6030d13c",
   "metadata": {},
   "outputs": [
    {
     "name": "stdout",
     "output_type": "stream",
     "text": [
      "Enter the password :worst service\n",
      "[0]\n"
     ]
    }
   ],
   "source": [
    "s = input('Enter the password :')\n",
    "prediction = predict(s)\n",
    "\n",
    "print(prediction)"
   ]
  },
  {
   "cell_type": "markdown",
   "id": "6f4d6348",
   "metadata": {},
   "source": [
    "#### Testing the model with pywebio"
   ]
  },
  {
   "cell_type": "code",
   "execution_count": 6,
   "id": "9192e832",
   "metadata": {},
   "outputs": [],
   "source": [
    "from pywebio.input import input,TEXT\n",
    "from pywebio.output import put_text"
   ]
  },
  {
   "cell_type": "code",
   "execution_count": 7,
   "id": "4b330341",
   "metadata": {},
   "outputs": [],
   "source": [
    "def predict_review():\n",
    "    s = input(\"Enter the review：\", type = TEXT)\n",
    "    prediction = predict(s)\n",
    "    \n",
    "    if prediction == 0:\n",
    "        review = 'Negative'\n",
    "    elif prediction == 1:\n",
    "        review = 'Positive'\n",
    "        \n",
    "    put_text('Review is : ',review)"
   ]
  },
  {
   "cell_type": "code",
   "execution_count": 8,
   "id": "0dc84c22",
   "metadata": {},
   "outputs": [],
   "source": [
    "predict_review()"
   ]
  },
  {
   "cell_type": "code",
   "execution_count": null,
   "id": "ae22ff98",
   "metadata": {},
   "outputs": [],
   "source": []
  }
 ],
 "metadata": {
  "kernelspec": {
   "display_name": "Python 3",
   "language": "python",
   "name": "python3"
  },
  "language_info": {
   "codemirror_mode": {
    "name": "ipython",
    "version": 3
   },
   "file_extension": ".py",
   "mimetype": "text/x-python",
   "name": "python",
   "nbconvert_exporter": "python",
   "pygments_lexer": "ipython3",
   "version": "3.7.7"
  }
 },
 "nbformat": 4,
 "nbformat_minor": 5
}
